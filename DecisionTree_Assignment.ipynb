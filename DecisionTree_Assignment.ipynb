{
  "nbformat": 4,
  "nbformat_minor": 0,
  "metadata": {
    "colab": {
      "provenance": [],
      "authorship_tag": "ABX9TyOf5cfYL0HrEMrULPBP0xaA",
      "include_colab_link": true
    },
    "kernelspec": {
      "name": "python3",
      "display_name": "Python 3"
    },
    "language_info": {
      "name": "python"
    }
  },
  "cells": [
    {
      "cell_type": "markdown",
      "metadata": {
        "id": "view-in-github",
        "colab_type": "text"
      },
      "source": [
        "<a href=\"https://colab.research.google.com/github/PratyushPriyamKuanr271776508/pwskills_DecisionTree/blob/main/DecisionTree_Assignment.ipynb\" target=\"_parent\"><img src=\"https://colab.research.google.com/assets/colab-badge.svg\" alt=\"Open In Colab\"/></a>"
      ]
    },
    {
      "cell_type": "markdown",
      "source": [
        "### **1. What is a Decision Tree, and how does it work?**  \n",
        "A Decision Tree is a supervised learning algorithm used for classification and regression. It works by recursively splitting the dataset based on feature values, forming a tree-like structure where each internal node represents a decision on a feature, each branch represents an outcome, and each leaf node represents a class label (classification) or a value (regression).  \n",
        "\n",
        "---\n",
        "\n",
        "### **2. What are impurity measures in Decision Trees?**  \n",
        "Impurity measures quantify how mixed a dataset is at a node. Common impurity measures include:  \n",
        "- **Gini Impurity**: Measures how often a randomly chosen element would be incorrectly classified if randomly labeled according to the distribution.  \n",
        "- **Entropy**: Measures the unpredictability or randomness in the data.  \n",
        "\n",
        "---\n",
        "\n",
        "### **3. What is the mathematical formula for Gini Impurity?**  \n",
        "\\[\n",
        "Gini = 1 - $\\sum_{i=1}^{c} p_i^2$\n",
        "\\]  \n",
        "where $p_i$ is the probability of class $i$, and $c$ is the number of classes.  \n",
        "\n",
        "---\n",
        "\n",
        "### **4. What is the mathematical formula for Entropy?**  \n",
        "$Entropy = -\\sum_{i=1}^{c} p_i \\log_2 p_i$\n",
        "where $p_i$ is the probability of class $i$, and $c$ is the number of classes.  \n",
        "\n",
        "---\n",
        "\n",
        "### **5. What is Information Gain, and how is it used in Decision Trees?**  \n",
        "Information Gain (IG) measures the reduction in impurity after a split. It is computed as:  \n",
        "$IG = Entropy(parent) - \\sum_{i=1}^{k} \\frac{N_i}{N} Entropy(child_i)$\n",
        "where \\( N_i \\) is the number of instances in child \\( i \\) and \\( N \\) is the total number of instances. Decision Trees use IG to determine the best feature to split on.  \n",
        "\n",
        "---\n",
        "\n",
        "### **6. What is the difference between Gini Impurity and Entropy?**  \n",
        "- **Gini Impurity** is computationally simpler and tends to split more evenly.  \n",
        "- **Entropy** is more sensitive to class distribution and is logarithmic in nature.  \n",
        "- Gini often leads to similar splits as Entropy but is preferred in CART (Classification and Regression Trees).  \n",
        "\n",
        "---\n",
        "\n",
        "### **7. What is the mathematical explanation behind Decision Trees?**  \n",
        "A Decision Tree recursively partitions the dataset using an impurity measure (like Gini or Entropy) to find the best split. It minimizes impurity and maximizes Information Gain at each step, forming a hierarchical structure. The tree grows until a stopping condition (like depth or minimum samples per leaf) is met.  \n",
        "\n",
        "---\n",
        "\n",
        "### **8. What is Pre-Pruning in Decision Trees?**  \n",
        "Pre-Pruning involves stopping the growth of the tree early, based on constraints like:  \n",
        "- Maximum depth  \n",
        "- Minimum samples per split  \n",
        "- Minimum gain threshold  \n",
        "\n",
        "This prevents overfitting by limiting the complexity of the tree.  \n",
        "\n",
        "---\n",
        "\n",
        "### **9. What is Post-Pruning in Decision Trees?**  \n",
        "Post-Pruning involves growing a full tree and then trimming back unnecessary nodes. Methods include:  \n",
        "- **Cost Complexity Pruning** (CART)  \n",
        "- **Reduced Error Pruning**  \n",
        "\n",
        "This helps improve generalization by removing overfitted branches.  \n",
        "\n",
        "---\n",
        "\n",
        "### **10. What is the difference between Pre-Pruning and Post-Pruning?**  \n",
        "| Feature         | Pre-Pruning | Post-Pruning |  \n",
        "|---------------|------------|--------------|  \n",
        "| When Applied  | During training | After training |  \n",
        "| How it Works  | Stops tree growth early | Grows full tree, then removes unnecessary branches |  \n",
        "| Risk          | May underfit the data | Helps reduce overfitting |  \n",
        "\n",
        "---\n",
        "\n",
        "### **11. What is a Decision Tree Regressor?**  \n",
        "A Decision Tree Regressor is used for regression tasks. Instead of classifying data, it predicts continuous values by splitting the dataset based on minimizing variance at each node.  \n",
        "\n",
        "---\n",
        "\n",
        "### **12. What are the advantages and disadvantages of Decision Trees?**  \n",
        "#### **Advantages**  \n",
        "- Easy to interpret and visualize  \n",
        "- Handles both numerical and categorical data  \n",
        "- Requires little data preprocessing  \n",
        "- Works well with small datasets  \n",
        "\n",
        "#### **Disadvantages**  \n",
        "- Prone to overfitting (if not pruned)  \n",
        "- Greedy algorithm may not always find the optimal tree  \n",
        "- Unstable with small variations in data  \n",
        "\n",
        "---\n",
        "\n",
        "### **13. How does a Decision Tree handle missing values?**  \n",
        "- **Ignore missing values** during splitting  \n",
        "- **Impute missing values** using mean/mode  \n",
        "- **Surrogate splits**: Use alternative features to split when a value is missing  \n",
        "\n",
        "---\n",
        "\n",
        "### **14. How does a Decision Tree handle categorical features?**  \n",
        "- Uses one-hot encoding or label encoding  \n",
        "- Splits on categorical values directly (if native support exists)  \n",
        "- Computes impurity reduction for each category and selects the best split  \n",
        "\n",
        "---\n",
        "\n",
        "### **15. What are some real-world applications of Decision Trees?**  \n",
        "- **Medical diagnosis** (predicting diseases based on symptoms)  \n",
        "- **Credit scoring** (approving or rejecting loans)  \n",
        "- **Customer segmentation** (identifying target customers)  \n",
        "- **Fraud detection** (flagging fraudulent transactions)  \n",
        "- **Recommendation systems** (suggesting products based on user history)"
      ],
      "metadata": {
        "id": "TqEWGukQlpgQ"
      }
    },
    {
      "cell_type": "markdown",
      "source": [
        "**16. Train a Decision Tree Classifier on the Iris dataset and print the model accuracy**"
      ],
      "metadata": {
        "id": "aUqdXLimmf_P"
      }
    },
    {
      "cell_type": "code",
      "source": [
        "from sklearn.datasets import load_iris\n",
        "from sklearn.model_selection import train_test_split\n",
        "from sklearn.tree import DecisionTreeClassifier\n",
        "from sklearn.metrics import accuracy_score\n",
        "\n",
        "# Load dataset\n",
        "iris = load_iris()\n",
        "X, y = iris.data, iris.target\n",
        "\n",
        "# Split dataset\n",
        "X_train, X_test, y_train, y_test = train_test_split(X, y, test_size=0.2, random_state=42)\n",
        "\n",
        "# Train model\n",
        "clf = DecisionTreeClassifier()\n",
        "clf.fit(X_train, y_train)\n",
        "\n",
        "# Predict and evaluate\n",
        "y_pred = clf.predict(X_test)\n",
        "accuracy = accuracy_score(y_test, y_pred)\n",
        "print(f\"Model Accuracy: {accuracy:.4f}\")"
      ],
      "metadata": {
        "colab": {
          "base_uri": "https://localhost:8080/"
        },
        "id": "aKDMIGIalrpB",
        "outputId": "f8128a30-bd3a-409f-c50a-0680bbea2a91"
      },
      "execution_count": 1,
      "outputs": [
        {
          "output_type": "stream",
          "name": "stdout",
          "text": [
            "Model Accuracy: 1.0000\n"
          ]
        }
      ]
    },
    {
      "cell_type": "markdown",
      "source": [
        "**17. Train a Decision Tree Classifier using Gini Impurity and print feature importances**"
      ],
      "metadata": {
        "id": "YmDn-we1mnzu"
      }
    },
    {
      "cell_type": "code",
      "source": [
        "from sklearn.tree import DecisionTreeClassifier\n",
        "\n",
        "clf = DecisionTreeClassifier(criterion='gini')\n",
        "clf.fit(X_train, y_train)\n",
        "\n",
        "print(\"Feature Importances:\", clf.feature_importances_)"
      ],
      "metadata": {
        "colab": {
          "base_uri": "https://localhost:8080/"
        },
        "id": "K6XxgcJYmksh",
        "outputId": "887e9892-d21f-4a6a-9288-48b56b554859"
      },
      "execution_count": 2,
      "outputs": [
        {
          "output_type": "stream",
          "name": "stdout",
          "text": [
            "Feature Importances: [0.01667014 0.         0.90614339 0.07718647]\n"
          ]
        }
      ]
    },
    {
      "cell_type": "markdown",
      "source": [
        "**18. Train a Decision Tree Classifier using Entropy and print model accuracy**"
      ],
      "metadata": {
        "id": "za8yVbjkoUBs"
      }
    },
    {
      "cell_type": "code",
      "source": [
        "clf_entropy = DecisionTreeClassifier(criterion='entropy')\n",
        "clf_entropy.fit(X_train, y_train)\n",
        "\n",
        "y_pred_entropy = clf_entropy.predict(X_test)\n",
        "accuracy_entropy = accuracy_score(y_test, y_pred_entropy)\n",
        "print(f\"Model Accuracy (Entropy): {accuracy_entropy:.4f}\")"
      ],
      "metadata": {
        "colab": {
          "base_uri": "https://localhost:8080/"
        },
        "id": "QNF3VbIkms2x",
        "outputId": "60eea648-f454-453e-84f6-56b009d4f5cf"
      },
      "execution_count": 3,
      "outputs": [
        {
          "output_type": "stream",
          "name": "stdout",
          "text": [
            "Model Accuracy (Entropy): 1.0000\n"
          ]
        }
      ]
    },
    {
      "cell_type": "markdown",
      "source": [
        "**19. Train a Decision Tree Regressor on a housing dataset and evaluate using MSE**"
      ],
      "metadata": {
        "id": "Q45WihcWoa1N"
      }
    },
    {
      "cell_type": "code",
      "source": [
        "from sklearn.datasets import fetch_california_housing\n",
        "from sklearn.tree import DecisionTreeRegressor\n",
        "from sklearn.metrics import mean_squared_error\n",
        "\n",
        "# Load dataset\n",
        "housing = fetch_california_housing()\n",
        "X, y = housing.data, housing.target\n",
        "\n",
        "# Split dataset\n",
        "X_train, X_test, y_train, y_test = train_test_split(X, y, test_size=0.2, random_state=42)\n",
        "\n",
        "# Train model\n",
        "regressor = DecisionTreeRegressor()\n",
        "regressor.fit(X_train, y_train)\n",
        "\n",
        "# Predict and evaluate\n",
        "y_pred = regressor.predict(X_test)\n",
        "mse = mean_squared_error(y_test, y_pred)\n",
        "print(f\"Mean Squared Error: {mse:.4f}\")"
      ],
      "metadata": {
        "colab": {
          "base_uri": "https://localhost:8080/"
        },
        "id": "YxWjVLAGoXvS",
        "outputId": "ff014040-fe93-4cf6-9830-0f6954ab49e2"
      },
      "execution_count": 4,
      "outputs": [
        {
          "output_type": "stream",
          "name": "stdout",
          "text": [
            "Mean Squared Error: 0.5006\n"
          ]
        }
      ]
    },
    {
      "cell_type": "markdown",
      "source": [
        "**20. Train a Decision Tree Classifier and visualize it using Graphviz**"
      ],
      "metadata": {
        "id": "-zHiw3pwokFM"
      }
    },
    {
      "cell_type": "code",
      "source": [
        "from sklearn import tree\n",
        "import graphviz\n",
        "\n",
        "dot_data = tree.export_graphviz(clf, out_file=None, feature_names=iris.feature_names, class_names=iris.target_names,\n",
        "                                filled=True, rounded=True, special_characters=True)\n",
        "graph = graphviz.Source(dot_data)\n",
        "display(graph)"
      ],
      "metadata": {
        "colab": {
          "base_uri": "https://localhost:8080/",
          "height": 936
        },
        "id": "pARPV14ooeG3",
        "outputId": "b56e9405-7cef-4c2b-c505-4d817327d290"
      },
      "execution_count": 14,
      "outputs": [
        {
          "output_type": "display_data",
          "data": {
            "image/svg+xml": "<?xml version=\"1.0\" encoding=\"UTF-8\" standalone=\"no\"?>\n<!DOCTYPE svg PUBLIC \"-//W3C//DTD SVG 1.1//EN\"\n \"http://www.w3.org/Graphics/SVG/1.1/DTD/svg11.dtd\">\n<!-- Generated by graphviz version 2.43.0 (0)\n -->\n<!-- Title: Tree Pages: 1 -->\n<svg width=\"863pt\" height=\"671pt\"\n viewBox=\"0.00 0.00 863.00 671.00\" xmlns=\"http://www.w3.org/2000/svg\" xmlns:xlink=\"http://www.w3.org/1999/xlink\">\n<g id=\"graph0\" class=\"graph\" transform=\"scale(1 1) rotate(0) translate(4 667)\">\n<title>Tree</title>\n<polygon fill=\"white\" stroke=\"transparent\" points=\"-4,4 -4,-667 859,-667 859,4 -4,4\"/>\n<!-- 0 -->\n<g id=\"node1\" class=\"node\">\n<title>0</title>\n<path fill=\"#ffffff\" stroke=\"black\" d=\"M517,-663C517,-663 382,-663 382,-663 376,-663 370,-657 370,-651 370,-651 370,-592 370,-592 370,-586 376,-580 382,-580 382,-580 517,-580 517,-580 523,-580 529,-586 529,-592 529,-592 529,-651 529,-651 529,-657 523,-663 517,-663\"/>\n<text text-anchor=\"start\" x=\"378\" y=\"-647.8\" font-family=\"Helvetica,sans-Serif\" font-size=\"14.00\">petal length (cm) ≤ 2.45</text>\n<text text-anchor=\"start\" x=\"414\" y=\"-632.8\" font-family=\"Helvetica,sans-Serif\" font-size=\"14.00\">gini = 0.667</text>\n<text text-anchor=\"start\" x=\"404.5\" y=\"-617.8\" font-family=\"Helvetica,sans-Serif\" font-size=\"14.00\">samples = 150</text>\n<text text-anchor=\"start\" x=\"391.5\" y=\"-602.8\" font-family=\"Helvetica,sans-Serif\" font-size=\"14.00\">value = [50, 50, 50]</text>\n<text text-anchor=\"start\" x=\"406\" y=\"-587.8\" font-family=\"Helvetica,sans-Serif\" font-size=\"14.00\">class = setosa</text>\n</g>\n<!-- 1 -->\n<g id=\"node2\" class=\"node\">\n<title>1</title>\n<path fill=\"#e58139\" stroke=\"black\" d=\"M419,-536.5C419,-536.5 326,-536.5 326,-536.5 320,-536.5 314,-530.5 314,-524.5 314,-524.5 314,-480.5 314,-480.5 314,-474.5 320,-468.5 326,-468.5 326,-468.5 419,-468.5 419,-468.5 425,-468.5 431,-474.5 431,-480.5 431,-480.5 431,-524.5 431,-524.5 431,-530.5 425,-536.5 419,-536.5\"/>\n<text text-anchor=\"start\" x=\"344.5\" y=\"-521.3\" font-family=\"Helvetica,sans-Serif\" font-size=\"14.00\">gini = 0.0</text>\n<text text-anchor=\"start\" x=\"331.5\" y=\"-506.3\" font-family=\"Helvetica,sans-Serif\" font-size=\"14.00\">samples = 50</text>\n<text text-anchor=\"start\" x=\"322\" y=\"-491.3\" font-family=\"Helvetica,sans-Serif\" font-size=\"14.00\">value = [50, 0, 0]</text>\n<text text-anchor=\"start\" x=\"329\" y=\"-476.3\" font-family=\"Helvetica,sans-Serif\" font-size=\"14.00\">class = setosa</text>\n</g>\n<!-- 0&#45;&gt;1 -->\n<g id=\"edge1\" class=\"edge\">\n<title>0&#45;&gt;1</title>\n<path fill=\"none\" stroke=\"black\" d=\"M422.79,-579.91C415.38,-568.65 407.33,-556.42 399.88,-545.11\"/>\n<polygon fill=\"black\" stroke=\"black\" points=\"402.75,-543.1 394.33,-536.67 396.9,-546.94 402.75,-543.1\"/>\n<text text-anchor=\"middle\" x=\"389.28\" y=\"-557.45\" font-family=\"Helvetica,sans-Serif\" font-size=\"14.00\">True</text>\n</g>\n<!-- 2 -->\n<g id=\"node3\" class=\"node\">\n<title>2</title>\n<path fill=\"#ffffff\" stroke=\"black\" d=\"M591.5,-544C591.5,-544 461.5,-544 461.5,-544 455.5,-544 449.5,-538 449.5,-532 449.5,-532 449.5,-473 449.5,-473 449.5,-467 455.5,-461 461.5,-461 461.5,-461 591.5,-461 591.5,-461 597.5,-461 603.5,-467 603.5,-473 603.5,-473 603.5,-532 603.5,-532 603.5,-538 597.5,-544 591.5,-544\"/>\n<text text-anchor=\"start\" x=\"457.5\" y=\"-528.8\" font-family=\"Helvetica,sans-Serif\" font-size=\"14.00\">petal width (cm) ≤ 1.75</text>\n<text text-anchor=\"start\" x=\"498.5\" y=\"-513.8\" font-family=\"Helvetica,sans-Serif\" font-size=\"14.00\">gini = 0.5</text>\n<text text-anchor=\"start\" x=\"481.5\" y=\"-498.8\" font-family=\"Helvetica,sans-Serif\" font-size=\"14.00\">samples = 100</text>\n<text text-anchor=\"start\" x=\"472\" y=\"-483.8\" font-family=\"Helvetica,sans-Serif\" font-size=\"14.00\">value = [0, 50, 50]</text>\n<text text-anchor=\"start\" x=\"474\" y=\"-468.8\" font-family=\"Helvetica,sans-Serif\" font-size=\"14.00\">class = versicolor</text>\n</g>\n<!-- 0&#45;&gt;2 -->\n<g id=\"edge2\" class=\"edge\">\n<title>0&#45;&gt;2</title>\n<path fill=\"none\" stroke=\"black\" d=\"M476.21,-579.91C482.01,-571.1 488.2,-561.7 494.18,-552.61\"/>\n<polygon fill=\"black\" stroke=\"black\" points=\"497.26,-554.3 499.83,-544.02 491.41,-550.45 497.26,-554.3\"/>\n<text text-anchor=\"middle\" x=\"504.88\" y=\"-564.81\" font-family=\"Helvetica,sans-Serif\" font-size=\"14.00\">False</text>\n</g>\n<!-- 3 -->\n<g id=\"node4\" class=\"node\">\n<title>3</title>\n<path fill=\"#4de88e\" stroke=\"black\" d=\"M482,-425C482,-425 347,-425 347,-425 341,-425 335,-419 335,-413 335,-413 335,-354 335,-354 335,-348 341,-342 347,-342 347,-342 482,-342 482,-342 488,-342 494,-348 494,-354 494,-354 494,-413 494,-413 494,-419 488,-425 482,-425\"/>\n<text text-anchor=\"start\" x=\"343\" y=\"-409.8\" font-family=\"Helvetica,sans-Serif\" font-size=\"14.00\">petal length (cm) ≤ 4.95</text>\n<text text-anchor=\"start\" x=\"379\" y=\"-394.8\" font-family=\"Helvetica,sans-Serif\" font-size=\"14.00\">gini = 0.168</text>\n<text text-anchor=\"start\" x=\"373.5\" y=\"-379.8\" font-family=\"Helvetica,sans-Serif\" font-size=\"14.00\">samples = 54</text>\n<text text-anchor=\"start\" x=\"364\" y=\"-364.8\" font-family=\"Helvetica,sans-Serif\" font-size=\"14.00\">value = [0, 49, 5]</text>\n<text text-anchor=\"start\" x=\"362\" y=\"-349.8\" font-family=\"Helvetica,sans-Serif\" font-size=\"14.00\">class = versicolor</text>\n</g>\n<!-- 2&#45;&gt;3 -->\n<g id=\"edge3\" class=\"edge\">\n<title>2&#45;&gt;3</title>\n<path fill=\"none\" stroke=\"black\" d=\"M487.64,-460.91C478.87,-451.74 469.47,-441.93 460.44,-432.49\"/>\n<polygon fill=\"black\" stroke=\"black\" points=\"462.73,-429.82 453.29,-425.02 457.68,-434.66 462.73,-429.82\"/>\n</g>\n<!-- 12 -->\n<g id=\"node13\" class=\"node\">\n<title>12</title>\n<path fill=\"#843de6\" stroke=\"black\" d=\"M706,-425C706,-425 571,-425 571,-425 565,-425 559,-419 559,-413 559,-413 559,-354 559,-354 559,-348 565,-342 571,-342 571,-342 706,-342 706,-342 712,-342 718,-348 718,-354 718,-354 718,-413 718,-413 718,-419 712,-425 706,-425\"/>\n<text text-anchor=\"start\" x=\"567\" y=\"-409.8\" font-family=\"Helvetica,sans-Serif\" font-size=\"14.00\">petal length (cm) ≤ 4.85</text>\n<text text-anchor=\"start\" x=\"603\" y=\"-394.8\" font-family=\"Helvetica,sans-Serif\" font-size=\"14.00\">gini = 0.043</text>\n<text text-anchor=\"start\" x=\"597.5\" y=\"-379.8\" font-family=\"Helvetica,sans-Serif\" font-size=\"14.00\">samples = 46</text>\n<text text-anchor=\"start\" x=\"588\" y=\"-364.8\" font-family=\"Helvetica,sans-Serif\" font-size=\"14.00\">value = [0, 1, 45]</text>\n<text text-anchor=\"start\" x=\"590\" y=\"-349.8\" font-family=\"Helvetica,sans-Serif\" font-size=\"14.00\">class = virginica</text>\n</g>\n<!-- 2&#45;&gt;12 -->\n<g id=\"edge12\" class=\"edge\">\n<title>2&#45;&gt;12</title>\n<path fill=\"none\" stroke=\"black\" d=\"M565.36,-460.91C574.13,-451.74 583.53,-441.93 592.56,-432.49\"/>\n<polygon fill=\"black\" stroke=\"black\" points=\"595.32,-434.66 599.71,-425.02 590.27,-429.82 595.32,-434.66\"/>\n</g>\n<!-- 4 -->\n<g id=\"node5\" class=\"node\">\n<title>4</title>\n<path fill=\"#3de684\" stroke=\"black\" d=\"M260.5,-306C260.5,-306 130.5,-306 130.5,-306 124.5,-306 118.5,-300 118.5,-294 118.5,-294 118.5,-235 118.5,-235 118.5,-229 124.5,-223 130.5,-223 130.5,-223 260.5,-223 260.5,-223 266.5,-223 272.5,-229 272.5,-235 272.5,-235 272.5,-294 272.5,-294 272.5,-300 266.5,-306 260.5,-306\"/>\n<text text-anchor=\"start\" x=\"126.5\" y=\"-290.8\" font-family=\"Helvetica,sans-Serif\" font-size=\"14.00\">petal width (cm) ≤ 1.65</text>\n<text text-anchor=\"start\" x=\"160\" y=\"-275.8\" font-family=\"Helvetica,sans-Serif\" font-size=\"14.00\">gini = 0.041</text>\n<text text-anchor=\"start\" x=\"154.5\" y=\"-260.8\" font-family=\"Helvetica,sans-Serif\" font-size=\"14.00\">samples = 48</text>\n<text text-anchor=\"start\" x=\"145\" y=\"-245.8\" font-family=\"Helvetica,sans-Serif\" font-size=\"14.00\">value = [0, 47, 1]</text>\n<text text-anchor=\"start\" x=\"143\" y=\"-230.8\" font-family=\"Helvetica,sans-Serif\" font-size=\"14.00\">class = versicolor</text>\n</g>\n<!-- 3&#45;&gt;4 -->\n<g id=\"edge4\" class=\"edge\">\n<title>3&#45;&gt;4</title>\n<path fill=\"none\" stroke=\"black\" d=\"M338.52,-341.91C319.75,-331.88 299.52,-321.07 280.36,-310.84\"/>\n<polygon fill=\"black\" stroke=\"black\" points=\"281.82,-307.65 271.35,-306.02 278.52,-313.82 281.82,-307.65\"/>\n</g>\n<!-- 7 -->\n<g id=\"node8\" class=\"node\">\n<title>7</title>\n<path fill=\"#c09cf2\" stroke=\"black\" d=\"M479.5,-306C479.5,-306 349.5,-306 349.5,-306 343.5,-306 337.5,-300 337.5,-294 337.5,-294 337.5,-235 337.5,-235 337.5,-229 343.5,-223 349.5,-223 349.5,-223 479.5,-223 479.5,-223 485.5,-223 491.5,-229 491.5,-235 491.5,-235 491.5,-294 491.5,-294 491.5,-300 485.5,-306 479.5,-306\"/>\n<text text-anchor=\"start\" x=\"345.5\" y=\"-290.8\" font-family=\"Helvetica,sans-Serif\" font-size=\"14.00\">petal width (cm) ≤ 1.55</text>\n<text text-anchor=\"start\" x=\"379\" y=\"-275.8\" font-family=\"Helvetica,sans-Serif\" font-size=\"14.00\">gini = 0.444</text>\n<text text-anchor=\"start\" x=\"377\" y=\"-260.8\" font-family=\"Helvetica,sans-Serif\" font-size=\"14.00\">samples = 6</text>\n<text text-anchor=\"start\" x=\"367.5\" y=\"-245.8\" font-family=\"Helvetica,sans-Serif\" font-size=\"14.00\">value = [0, 2, 4]</text>\n<text text-anchor=\"start\" x=\"366\" y=\"-230.8\" font-family=\"Helvetica,sans-Serif\" font-size=\"14.00\">class = virginica</text>\n</g>\n<!-- 3&#45;&gt;7 -->\n<g id=\"edge7\" class=\"edge\">\n<title>3&#45;&gt;7</title>\n<path fill=\"none\" stroke=\"black\" d=\"M414.5,-341.91C414.5,-333.65 414.5,-324.86 414.5,-316.3\"/>\n<polygon fill=\"black\" stroke=\"black\" points=\"418,-316.02 414.5,-306.02 411,-316.02 418,-316.02\"/>\n</g>\n<!-- 5 -->\n<g id=\"node6\" class=\"node\">\n<title>5</title>\n<path fill=\"#39e581\" stroke=\"black\" d=\"M109,-179.5C109,-179.5 12,-179.5 12,-179.5 6,-179.5 0,-173.5 0,-167.5 0,-167.5 0,-123.5 0,-123.5 0,-117.5 6,-111.5 12,-111.5 12,-111.5 109,-111.5 109,-111.5 115,-111.5 121,-117.5 121,-123.5 121,-123.5 121,-167.5 121,-167.5 121,-173.5 115,-179.5 109,-179.5\"/>\n<text text-anchor=\"start\" x=\"32.5\" y=\"-164.3\" font-family=\"Helvetica,sans-Serif\" font-size=\"14.00\">gini = 0.0</text>\n<text text-anchor=\"start\" x=\"19.5\" y=\"-149.3\" font-family=\"Helvetica,sans-Serif\" font-size=\"14.00\">samples = 47</text>\n<text text-anchor=\"start\" x=\"10\" y=\"-134.3\" font-family=\"Helvetica,sans-Serif\" font-size=\"14.00\">value = [0, 47, 0]</text>\n<text text-anchor=\"start\" x=\"8\" y=\"-119.3\" font-family=\"Helvetica,sans-Serif\" font-size=\"14.00\">class = versicolor</text>\n</g>\n<!-- 4&#45;&gt;5 -->\n<g id=\"edge5\" class=\"edge\">\n<title>4&#45;&gt;5</title>\n<path fill=\"none\" stroke=\"black\" d=\"M148.66,-222.91C135.04,-211.1 120.17,-198.22 106.6,-186.45\"/>\n<polygon fill=\"black\" stroke=\"black\" points=\"108.62,-183.57 98.77,-179.67 104.03,-188.86 108.62,-183.57\"/>\n</g>\n<!-- 6 -->\n<g id=\"node7\" class=\"node\">\n<title>6</title>\n<path fill=\"#8139e5\" stroke=\"black\" d=\"M240,-179.5C240,-179.5 151,-179.5 151,-179.5 145,-179.5 139,-173.5 139,-167.5 139,-167.5 139,-123.5 139,-123.5 139,-117.5 145,-111.5 151,-111.5 151,-111.5 240,-111.5 240,-111.5 246,-111.5 252,-117.5 252,-123.5 252,-123.5 252,-167.5 252,-167.5 252,-173.5 246,-179.5 240,-179.5\"/>\n<text text-anchor=\"start\" x=\"167.5\" y=\"-164.3\" font-family=\"Helvetica,sans-Serif\" font-size=\"14.00\">gini = 0.0</text>\n<text text-anchor=\"start\" x=\"158\" y=\"-149.3\" font-family=\"Helvetica,sans-Serif\" font-size=\"14.00\">samples = 1</text>\n<text text-anchor=\"start\" x=\"148.5\" y=\"-134.3\" font-family=\"Helvetica,sans-Serif\" font-size=\"14.00\">value = [0, 0, 1]</text>\n<text text-anchor=\"start\" x=\"147\" y=\"-119.3\" font-family=\"Helvetica,sans-Serif\" font-size=\"14.00\">class = virginica</text>\n</g>\n<!-- 4&#45;&gt;6 -->\n<g id=\"edge6\" class=\"edge\">\n<title>4&#45;&gt;6</title>\n<path fill=\"none\" stroke=\"black\" d=\"M195.5,-222.91C195.5,-212.2 195.5,-200.62 195.5,-189.78\"/>\n<polygon fill=\"black\" stroke=\"black\" points=\"199,-189.67 195.5,-179.67 192,-189.67 199,-189.67\"/>\n</g>\n<!-- 8 -->\n<g id=\"node9\" class=\"node\">\n<title>8</title>\n<path fill=\"#8139e5\" stroke=\"black\" d=\"M371,-179.5C371,-179.5 282,-179.5 282,-179.5 276,-179.5 270,-173.5 270,-167.5 270,-167.5 270,-123.5 270,-123.5 270,-117.5 276,-111.5 282,-111.5 282,-111.5 371,-111.5 371,-111.5 377,-111.5 383,-117.5 383,-123.5 383,-123.5 383,-167.5 383,-167.5 383,-173.5 377,-179.5 371,-179.5\"/>\n<text text-anchor=\"start\" x=\"298.5\" y=\"-164.3\" font-family=\"Helvetica,sans-Serif\" font-size=\"14.00\">gini = 0.0</text>\n<text text-anchor=\"start\" x=\"289\" y=\"-149.3\" font-family=\"Helvetica,sans-Serif\" font-size=\"14.00\">samples = 3</text>\n<text text-anchor=\"start\" x=\"279.5\" y=\"-134.3\" font-family=\"Helvetica,sans-Serif\" font-size=\"14.00\">value = [0, 0, 3]</text>\n<text text-anchor=\"start\" x=\"278\" y=\"-119.3\" font-family=\"Helvetica,sans-Serif\" font-size=\"14.00\">class = virginica</text>\n</g>\n<!-- 7&#45;&gt;8 -->\n<g id=\"edge8\" class=\"edge\">\n<title>7&#45;&gt;8</title>\n<path fill=\"none\" stroke=\"black\" d=\"M383.97,-222.91C375.42,-211.54 366.12,-199.18 357.54,-187.77\"/>\n<polygon fill=\"black\" stroke=\"black\" points=\"360.25,-185.55 351.45,-179.67 354.66,-189.76 360.25,-185.55\"/>\n</g>\n<!-- 9 -->\n<g id=\"node10\" class=\"node\">\n<title>9</title>\n<path fill=\"#9cf2c0\" stroke=\"black\" d=\"M548,-187C548,-187 413,-187 413,-187 407,-187 401,-181 401,-175 401,-175 401,-116 401,-116 401,-110 407,-104 413,-104 413,-104 548,-104 548,-104 554,-104 560,-110 560,-116 560,-116 560,-175 560,-175 560,-181 554,-187 548,-187\"/>\n<text text-anchor=\"start\" x=\"409\" y=\"-171.8\" font-family=\"Helvetica,sans-Serif\" font-size=\"14.00\">petal length (cm) ≤ 5.45</text>\n<text text-anchor=\"start\" x=\"445\" y=\"-156.8\" font-family=\"Helvetica,sans-Serif\" font-size=\"14.00\">gini = 0.444</text>\n<text text-anchor=\"start\" x=\"443\" y=\"-141.8\" font-family=\"Helvetica,sans-Serif\" font-size=\"14.00\">samples = 3</text>\n<text text-anchor=\"start\" x=\"433.5\" y=\"-126.8\" font-family=\"Helvetica,sans-Serif\" font-size=\"14.00\">value = [0, 2, 1]</text>\n<text text-anchor=\"start\" x=\"428\" y=\"-111.8\" font-family=\"Helvetica,sans-Serif\" font-size=\"14.00\">class = versicolor</text>\n</g>\n<!-- 7&#45;&gt;9 -->\n<g id=\"edge9\" class=\"edge\">\n<title>7&#45;&gt;9</title>\n<path fill=\"none\" stroke=\"black\" d=\"M437.4,-222.91C442.31,-214.2 447.56,-204.9 452.64,-195.89\"/>\n<polygon fill=\"black\" stroke=\"black\" points=\"455.78,-197.45 457.64,-187.02 449.68,-194.01 455.78,-197.45\"/>\n</g>\n<!-- 10 -->\n<g id=\"node11\" class=\"node\">\n<title>10</title>\n<path fill=\"#39e581\" stroke=\"black\" d=\"M461,-68C461,-68 364,-68 364,-68 358,-68 352,-62 352,-56 352,-56 352,-12 352,-12 352,-6 358,0 364,0 364,0 461,0 461,0 467,0 473,-6 473,-12 473,-12 473,-56 473,-56 473,-62 467,-68 461,-68\"/>\n<text text-anchor=\"start\" x=\"384.5\" y=\"-52.8\" font-family=\"Helvetica,sans-Serif\" font-size=\"14.00\">gini = 0.0</text>\n<text text-anchor=\"start\" x=\"375\" y=\"-37.8\" font-family=\"Helvetica,sans-Serif\" font-size=\"14.00\">samples = 2</text>\n<text text-anchor=\"start\" x=\"365.5\" y=\"-22.8\" font-family=\"Helvetica,sans-Serif\" font-size=\"14.00\">value = [0, 2, 0]</text>\n<text text-anchor=\"start\" x=\"360\" y=\"-7.8\" font-family=\"Helvetica,sans-Serif\" font-size=\"14.00\">class = versicolor</text>\n</g>\n<!-- 9&#45;&gt;10 -->\n<g id=\"edge10\" class=\"edge\">\n<title>9&#45;&gt;10</title>\n<path fill=\"none\" stroke=\"black\" d=\"M455.18,-103.73C449.74,-94.97 443.99,-85.7 438.52,-76.91\"/>\n<polygon fill=\"black\" stroke=\"black\" points=\"441.43,-74.95 433.18,-68.3 435.48,-78.64 441.43,-74.95\"/>\n</g>\n<!-- 11 -->\n<g id=\"node12\" class=\"node\">\n<title>11</title>\n<path fill=\"#8139e5\" stroke=\"black\" d=\"M592,-68C592,-68 503,-68 503,-68 497,-68 491,-62 491,-56 491,-56 491,-12 491,-12 491,-6 497,0 503,0 503,0 592,0 592,0 598,0 604,-6 604,-12 604,-12 604,-56 604,-56 604,-62 598,-68 592,-68\"/>\n<text text-anchor=\"start\" x=\"519.5\" y=\"-52.8\" font-family=\"Helvetica,sans-Serif\" font-size=\"14.00\">gini = 0.0</text>\n<text text-anchor=\"start\" x=\"510\" y=\"-37.8\" font-family=\"Helvetica,sans-Serif\" font-size=\"14.00\">samples = 1</text>\n<text text-anchor=\"start\" x=\"500.5\" y=\"-22.8\" font-family=\"Helvetica,sans-Serif\" font-size=\"14.00\">value = [0, 0, 1]</text>\n<text text-anchor=\"start\" x=\"499\" y=\"-7.8\" font-family=\"Helvetica,sans-Serif\" font-size=\"14.00\">class = virginica</text>\n</g>\n<!-- 9&#45;&gt;11 -->\n<g id=\"edge11\" class=\"edge\">\n<title>9&#45;&gt;11</title>\n<path fill=\"none\" stroke=\"black\" d=\"M505.45,-103.73C510.81,-94.97 516.48,-85.7 521.86,-76.91\"/>\n<polygon fill=\"black\" stroke=\"black\" points=\"524.89,-78.66 527.12,-68.3 518.92,-75 524.89,-78.66\"/>\n</g>\n<!-- 13 -->\n<g id=\"node14\" class=\"node\">\n<title>13</title>\n<path fill=\"#c09cf2\" stroke=\"black\" d=\"M707.5,-306C707.5,-306 569.5,-306 569.5,-306 563.5,-306 557.5,-300 557.5,-294 557.5,-294 557.5,-235 557.5,-235 557.5,-229 563.5,-223 569.5,-223 569.5,-223 707.5,-223 707.5,-223 713.5,-223 719.5,-229 719.5,-235 719.5,-235 719.5,-294 719.5,-294 719.5,-300 713.5,-306 707.5,-306\"/>\n<text text-anchor=\"start\" x=\"565.5\" y=\"-290.8\" font-family=\"Helvetica,sans-Serif\" font-size=\"14.00\">sepal length (cm) ≤ 5.95</text>\n<text text-anchor=\"start\" x=\"603\" y=\"-275.8\" font-family=\"Helvetica,sans-Serif\" font-size=\"14.00\">gini = 0.444</text>\n<text text-anchor=\"start\" x=\"601\" y=\"-260.8\" font-family=\"Helvetica,sans-Serif\" font-size=\"14.00\">samples = 3</text>\n<text text-anchor=\"start\" x=\"591.5\" y=\"-245.8\" font-family=\"Helvetica,sans-Serif\" font-size=\"14.00\">value = [0, 1, 2]</text>\n<text text-anchor=\"start\" x=\"590\" y=\"-230.8\" font-family=\"Helvetica,sans-Serif\" font-size=\"14.00\">class = virginica</text>\n</g>\n<!-- 12&#45;&gt;13 -->\n<g id=\"edge13\" class=\"edge\">\n<title>12&#45;&gt;13</title>\n<path fill=\"none\" stroke=\"black\" d=\"M638.5,-341.91C638.5,-333.65 638.5,-324.86 638.5,-316.3\"/>\n<polygon fill=\"black\" stroke=\"black\" points=\"642,-316.02 638.5,-306.02 635,-316.02 642,-316.02\"/>\n</g>\n<!-- 16 -->\n<g id=\"node17\" class=\"node\">\n<title>16</title>\n<path fill=\"#8139e5\" stroke=\"black\" d=\"M843,-298.5C843,-298.5 750,-298.5 750,-298.5 744,-298.5 738,-292.5 738,-286.5 738,-286.5 738,-242.5 738,-242.5 738,-236.5 744,-230.5 750,-230.5 750,-230.5 843,-230.5 843,-230.5 849,-230.5 855,-236.5 855,-242.5 855,-242.5 855,-286.5 855,-286.5 855,-292.5 849,-298.5 843,-298.5\"/>\n<text text-anchor=\"start\" x=\"768.5\" y=\"-283.3\" font-family=\"Helvetica,sans-Serif\" font-size=\"14.00\">gini = 0.0</text>\n<text text-anchor=\"start\" x=\"755.5\" y=\"-268.3\" font-family=\"Helvetica,sans-Serif\" font-size=\"14.00\">samples = 43</text>\n<text text-anchor=\"start\" x=\"746\" y=\"-253.3\" font-family=\"Helvetica,sans-Serif\" font-size=\"14.00\">value = [0, 0, 43]</text>\n<text text-anchor=\"start\" x=\"748\" y=\"-238.3\" font-family=\"Helvetica,sans-Serif\" font-size=\"14.00\">class = virginica</text>\n</g>\n<!-- 12&#45;&gt;16 -->\n<g id=\"edge16\" class=\"edge\">\n<title>12&#45;&gt;16</title>\n<path fill=\"none\" stroke=\"black\" d=\"M693.32,-341.91C709.56,-329.88 727.31,-316.73 743.44,-304.79\"/>\n<polygon fill=\"black\" stroke=\"black\" points=\"745.76,-307.43 751.71,-298.67 741.59,-301.81 745.76,-307.43\"/>\n</g>\n<!-- 14 -->\n<g id=\"node15\" class=\"node\">\n<title>14</title>\n<path fill=\"#39e581\" stroke=\"black\" d=\"M687,-179.5C687,-179.5 590,-179.5 590,-179.5 584,-179.5 578,-173.5 578,-167.5 578,-167.5 578,-123.5 578,-123.5 578,-117.5 584,-111.5 590,-111.5 590,-111.5 687,-111.5 687,-111.5 693,-111.5 699,-117.5 699,-123.5 699,-123.5 699,-167.5 699,-167.5 699,-173.5 693,-179.5 687,-179.5\"/>\n<text text-anchor=\"start\" x=\"610.5\" y=\"-164.3\" font-family=\"Helvetica,sans-Serif\" font-size=\"14.00\">gini = 0.0</text>\n<text text-anchor=\"start\" x=\"601\" y=\"-149.3\" font-family=\"Helvetica,sans-Serif\" font-size=\"14.00\">samples = 1</text>\n<text text-anchor=\"start\" x=\"591.5\" y=\"-134.3\" font-family=\"Helvetica,sans-Serif\" font-size=\"14.00\">value = [0, 1, 0]</text>\n<text text-anchor=\"start\" x=\"586\" y=\"-119.3\" font-family=\"Helvetica,sans-Serif\" font-size=\"14.00\">class = versicolor</text>\n</g>\n<!-- 13&#45;&gt;14 -->\n<g id=\"edge14\" class=\"edge\">\n<title>13&#45;&gt;14</title>\n<path fill=\"none\" stroke=\"black\" d=\"M638.5,-222.91C638.5,-212.2 638.5,-200.62 638.5,-189.78\"/>\n<polygon fill=\"black\" stroke=\"black\" points=\"642,-189.67 638.5,-179.67 635,-189.67 642,-189.67\"/>\n</g>\n<!-- 15 -->\n<g id=\"node16\" class=\"node\">\n<title>15</title>\n<path fill=\"#8139e5\" stroke=\"black\" d=\"M818,-179.5C818,-179.5 729,-179.5 729,-179.5 723,-179.5 717,-173.5 717,-167.5 717,-167.5 717,-123.5 717,-123.5 717,-117.5 723,-111.5 729,-111.5 729,-111.5 818,-111.5 818,-111.5 824,-111.5 830,-117.5 830,-123.5 830,-123.5 830,-167.5 830,-167.5 830,-173.5 824,-179.5 818,-179.5\"/>\n<text text-anchor=\"start\" x=\"745.5\" y=\"-164.3\" font-family=\"Helvetica,sans-Serif\" font-size=\"14.00\">gini = 0.0</text>\n<text text-anchor=\"start\" x=\"736\" y=\"-149.3\" font-family=\"Helvetica,sans-Serif\" font-size=\"14.00\">samples = 2</text>\n<text text-anchor=\"start\" x=\"726.5\" y=\"-134.3\" font-family=\"Helvetica,sans-Serif\" font-size=\"14.00\">value = [0, 0, 2]</text>\n<text text-anchor=\"start\" x=\"725\" y=\"-119.3\" font-family=\"Helvetica,sans-Serif\" font-size=\"14.00\">class = virginica</text>\n</g>\n<!-- 13&#45;&gt;15 -->\n<g id=\"edge15\" class=\"edge\">\n<title>13&#45;&gt;15</title>\n<path fill=\"none\" stroke=\"black\" d=\"M685.34,-222.91C698.96,-211.1 713.83,-198.22 727.4,-186.45\"/>\n<polygon fill=\"black\" stroke=\"black\" points=\"729.97,-188.86 735.23,-179.67 725.38,-183.57 729.97,-188.86\"/>\n</g>\n</g>\n</svg>\n",
            "text/plain": [
              "<graphviz.sources.Source at 0x797bddf2b690>"
            ]
          },
          "metadata": {}
        }
      ]
    },
    {
      "cell_type": "markdown",
      "source": [
        "**21. Train a Decision Tree Classifier with max_depth=3 and compare accuracy with a fully grown tree**"
      ],
      "metadata": {
        "id": "qzbx1tgPsJ2d"
      }
    },
    {
      "cell_type": "code",
      "source": [
        "from sklearn.datasets import load_iris\n",
        "from sklearn.model_selection import train_test_split\n",
        "from sklearn.tree import DecisionTreeClassifier\n",
        "from sklearn.metrics import accuracy_score\n",
        "\n",
        "# Load dataset\n",
        "iris = load_iris()\n",
        "X, y = iris.data, iris.target\n",
        "\n",
        "# Split dataset\n",
        "X_train, X_test, y_train, y_test = train_test_split(X, y, test_size=0.3, random_state=42)\n",
        "\n",
        "# Train model with max_depth=3\n",
        "clf_limited = DecisionTreeClassifier(max_depth=3, random_state=42)\n",
        "clf_limited.fit(X_train, y_train)\n",
        "\n",
        "# Train fully grown tree\n",
        "clf_full = DecisionTreeClassifier(random_state=42)\n",
        "clf_full.fit(X_train, y_train)\n",
        "\n",
        "# Compare accuracy\n",
        "y_pred_limited = clf_limited.predict(X_test)\n",
        "y_pred_full = clf_full.predict(X_test)\n",
        "accuracy_limited = accuracy_score(y_test, y_pred_limited)\n",
        "accuracy_full = accuracy_score(y_test, y_pred_full)\n",
        "print(f\"Accuracy (max_depth=3): {accuracy_limited:.2f}\")\n",
        "print(f\"Accuracy (fully grown): {accuracy_full:.2f}\")"
      ],
      "metadata": {
        "colab": {
          "base_uri": "https://localhost:8080/"
        },
        "id": "rsk76uotosgN",
        "outputId": "52f799e2-adfd-436e-b3fd-a731113fc7bc"
      },
      "execution_count": 16,
      "outputs": [
        {
          "output_type": "stream",
          "name": "stdout",
          "text": [
            "Accuracy (max_depth=3): 1.00\n",
            "Accuracy (fully grown): 1.00\n"
          ]
        }
      ]
    },
    {
      "cell_type": "markdown",
      "source": [
        "**22. Train a Decision Tree Classifier using min_samples_split=5 and compare accuracy with a default tree**"
      ],
      "metadata": {
        "id": "jLYGqSjFsXvT"
      }
    },
    {
      "cell_type": "code",
      "source": [
        "clf_split = DecisionTreeClassifier(min_samples_split=5)\n",
        "clf_split.fit(X_train, y_train)\n",
        "\n",
        "y_pred_split = clf_split.predict(X_test)\n",
        "accuracy_split = accuracy_score(y_test, y_pred_split)\n",
        "\n",
        "print(f\"Accuracy with min_samples_split=5: {accuracy_split:.4f}\")\n",
        "print(f\"Default Tree Accuracy: {accuracy:.4f}\")"
      ],
      "metadata": {
        "colab": {
          "base_uri": "https://localhost:8080/"
        },
        "id": "sjlu2yLarzYc",
        "outputId": "6165d8c2-33b6-43ba-c866-d44f0e24bdfc"
      },
      "execution_count": 17,
      "outputs": [
        {
          "output_type": "stream",
          "name": "stdout",
          "text": [
            "Accuracy with min_samples_split=5: 1.0000\n",
            "Default Tree Accuracy: 1.0000\n"
          ]
        }
      ]
    },
    {
      "cell_type": "markdown",
      "source": [
        "**23. Apply feature scaling before training a Decision Tree Classifier and compare accuracy**"
      ],
      "metadata": {
        "id": "MdhQmdVVseyu"
      }
    },
    {
      "cell_type": "code",
      "source": [
        "from sklearn.preprocessing import StandardScaler\n",
        "\n",
        "scaler = StandardScaler()\n",
        "X_train_scaled = scaler.fit_transform(X_train)\n",
        "X_test_scaled = scaler.transform(X_test)\n",
        "\n",
        "clf_scaled = DecisionTreeClassifier()\n",
        "clf_scaled.fit(X_train_scaled, y_train)\n",
        "\n",
        "y_pred_scaled = clf_scaled.predict(X_test_scaled)\n",
        "accuracy_scaled = accuracy_score(y_test, y_pred_scaled)\n",
        "\n",
        "print(f\"Accuracy with Scaling: {accuracy_scaled:.4f}\")\n",
        "print(f\"Accuracy without Scaling: {accuracy:.4f}\")"
      ],
      "metadata": {
        "colab": {
          "base_uri": "https://localhost:8080/"
        },
        "id": "jYkUD4fKscMj",
        "outputId": "3cad2343-648c-49c0-88f4-37e2f98b2642"
      },
      "execution_count": 18,
      "outputs": [
        {
          "output_type": "stream",
          "name": "stdout",
          "text": [
            "Accuracy with Scaling: 1.0000\n",
            "Accuracy without Scaling: 1.0000\n"
          ]
        }
      ]
    },
    {
      "cell_type": "markdown",
      "source": [
        "**24. Train a Decision Tree Classifier using One-vs-Rest (OvR) for multiclass classification**"
      ],
      "metadata": {
        "id": "us49w6htsizm"
      }
    },
    {
      "cell_type": "code",
      "source": [
        "from sklearn.multiclass import OneVsRestClassifier\n",
        "\n",
        "clf_ovr = OneVsRestClassifier(DecisionTreeClassifier())\n",
        "clf_ovr.fit(X_train, y_train)\n",
        "\n",
        "y_pred_ovr = clf_ovr.predict(X_test)\n",
        "accuracy_ovr = accuracy_score(y_test, y_pred_ovr)\n",
        "print(f\"OvR Strategy Accuracy: {accuracy_ovr:.4f}\")"
      ],
      "metadata": {
        "colab": {
          "base_uri": "https://localhost:8080/"
        },
        "id": "fWB9ysvZshuF",
        "outputId": "e95fea59-fc4b-4367-d3c0-4b51a2c716d1"
      },
      "execution_count": 19,
      "outputs": [
        {
          "output_type": "stream",
          "name": "stdout",
          "text": [
            "OvR Strategy Accuracy: 1.0000\n"
          ]
        }
      ]
    },
    {
      "cell_type": "markdown",
      "source": [
        "**25. Train a Decision Tree Classifier and display feature importance scores**"
      ],
      "metadata": {
        "id": "aZveu6IXssnO"
      }
    },
    {
      "cell_type": "code",
      "source": [
        "print(\"Feature Importances:\", clf.feature_importances_)"
      ],
      "metadata": {
        "colab": {
          "base_uri": "https://localhost:8080/"
        },
        "id": "Cjg9l7z7snkF",
        "outputId": "1310ab65-9140-4761-b4df-88e27e358188"
      },
      "execution_count": 20,
      "outputs": [
        {
          "output_type": "stream",
          "name": "stdout",
          "text": [
            "Feature Importances: [0.01333333 0.         0.56405596 0.42261071]\n"
          ]
        }
      ]
    },
    {
      "cell_type": "markdown",
      "source": [
        "**26. Train a Decision Tree Regressor with max_depth=5 and compare performance with an unrestricted tree**"
      ],
      "metadata": {
        "id": "5XlMeBnhszom"
      }
    },
    {
      "cell_type": "code",
      "source": [
        "regressor_limited = DecisionTreeRegressor(max_depth=5)\n",
        "regressor_limited.fit(X_train, y_train)\n",
        "\n",
        "y_pred_limited = regressor_limited.predict(X_test)\n",
        "mse_limited = mean_squared_error(y_test, y_pred_limited)\n",
        "\n",
        "print(f\"MSE with max_depth=5: {mse_limited:.4f}\")\n",
        "print(f\"Default Tree MSE: {mse:.4f}\")"
      ],
      "metadata": {
        "colab": {
          "base_uri": "https://localhost:8080/"
        },
        "id": "EVq55JRFswGV",
        "outputId": "ed13a765-1979-4411-9395-ddef5843ce6e"
      },
      "execution_count": 21,
      "outputs": [
        {
          "output_type": "stream",
          "name": "stdout",
          "text": [
            "MSE with max_depth=5: 0.0000\n",
            "Default Tree MSE: 0.5006\n"
          ]
        }
      ]
    },
    {
      "cell_type": "markdown",
      "source": [
        "**27. Apply Cost Complexity Pruning (CCP) and visualize its effect on accuracy**"
      ],
      "metadata": {
        "id": "Ez_yQIOMs5uj"
      }
    },
    {
      "cell_type": "code",
      "source": [
        "path = clf.cost_complexity_pruning_path(X_train, y_train)\n",
        "ccp_alphas = path.ccp_alphas\n",
        "\n",
        "accuracies = []\n",
        "for alpha in ccp_alphas:\n",
        "    clf_pruned = DecisionTreeClassifier(ccp_alpha=alpha)\n",
        "    clf_pruned.fit(X_train, y_train)\n",
        "    accuracies.append(accuracy_score(y_test, clf_pruned.predict(X_test)))\n",
        "\n",
        "import matplotlib.pyplot as plt\n",
        "plt.plot(ccp_alphas, accuracies)\n",
        "plt.xlabel(\"Alpha\")\n",
        "plt.ylabel(\"Accuracy\")\n",
        "plt.title(\"Effect of CCP on Accuracy\")\n",
        "plt.show()"
      ],
      "metadata": {
        "colab": {
          "base_uri": "https://localhost:8080/",
          "height": 472
        },
        "id": "V-ZtvRjps3n1",
        "outputId": "908e02d0-2c68-4959-8efe-00aa09c8915b"
      },
      "execution_count": 22,
      "outputs": [
        {
          "output_type": "display_data",
          "data": {
            "text/plain": [
              "<Figure size 640x480 with 1 Axes>"
            ],
            "image/png": "[encoded data removed]"
          },
          "metadata": {}
        }
      ]
    },
    {
      "cell_type": "markdown",
      "source": [
        "**28. Train a Decision Tree Classifier and evaluate Precision, Recall, and F1-Score**"
      ],
      "metadata": {
        "id": "Sq1OBctKtCOY"
      }
    },
    {
      "cell_type": "code",
      "source": [
        "from sklearn.datasets import load_iris\n",
        "from sklearn.model_selection import train_test_split\n",
        "from sklearn.tree import DecisionTreeClassifier\n",
        "from sklearn.metrics import precision_score, recall_score, f1_score\n",
        "\n",
        "# Load dataset\n",
        "iris = load_iris()\n",
        "X, y = iris.data, iris.target\n",
        "\n",
        "# Split dataset\n",
        "X_train, X_test, y_train, y_test = train_test_split(X, y, test_size=0.3, random_state=42)\n",
        "\n",
        "# Train model\n",
        "clf = DecisionTreeClassifier(random_state=42)\n",
        "clf.fit(X_train, y_train)\n",
        "\n",
        "# Predict and evaluate\n",
        "y_pred = clf.predict(X_test)\n",
        "precision = precision_score(y_test, y_pred, average='weighted')\n",
        "recall = recall_score(y_test, y_pred, average='weighted')\n",
        "f1 = f1_score(y_test, y_pred, average='weighted')\n",
        "print(f\"Precision: {precision:.2f}\")\n",
        "print(f\"Recall: {recall:.2f}\")\n",
        "print(f\"F1-Score: {f1:.2f}\")"
      ],
      "metadata": {
        "colab": {
          "base_uri": "https://localhost:8080/"
        },
        "id": "FCZNH-Dys9l1",
        "outputId": "8bf56272-335d-4083-d23a-dc2d306f0a80"
      },
      "execution_count": 24,
      "outputs": [
        {
          "output_type": "stream",
          "name": "stdout",
          "text": [
            "Precision: 1.00\n",
            "Recall: 1.00\n",
            "F1-Score: 1.00\n"
          ]
        }
      ]
    },
    {
      "cell_type": "markdown",
      "source": [
        "**29. Train a Decision Tree Classifier and visualize confusion matrix using Seaborn**"
      ],
      "metadata": {
        "id": "1tZMvRvYtQ2i"
      }
    },
    {
      "cell_type": "code",
      "source": [
        "from sklearn.datasets import load_iris\n",
        "from sklearn.model_selection import train_test_split\n",
        "from sklearn.tree import DecisionTreeClassifier\n",
        "from sklearn.metrics import confusion_matrix\n",
        "import seaborn as sns\n",
        "import matplotlib.pyplot as plt\n",
        "\n",
        "# Load dataset\n",
        "iris = load_iris()\n",
        "X, y = iris.data, iris.target\n",
        "\n",
        "# Split dataset\n",
        "X_train, X_test, y_train, y_test = train_test_split(X, y, test_size=0.3, random_state=42)\n",
        "\n",
        "# Train model\n",
        "clf = DecisionTreeClassifier(random_state=42)\n",
        "clf.fit(X_train, y_train)\n",
        "\n",
        "# Predict and create confusion matrix\n",
        "y_pred = clf.predict(X_test)\n",
        "cm = confusion_matrix(y_test, y_pred)\n",
        "\n",
        "# Visualize confusion matrix\n",
        "sns.heatmap(cm, annot=True, fmt='d', cmap='Blues', xticklabels=iris.target_names, yticklabels=iris.target_names)\n",
        "plt.xlabel(\"Predicted\")\n",
        "plt.ylabel(\"Actual\")\n",
        "plt.title(\"Confusion Matrix\")\n",
        "plt.show()"
      ],
      "metadata": {
        "colab": {
          "base_uri": "https://localhost:8080/",
          "height": 472
        },
        "id": "dlpqyOz9tHXR",
        "outputId": "0ee9a370-1838-421a-eba7-1b11d91d7b12"
      },
      "execution_count": 25,
      "outputs": [
        {
          "output_type": "display_data",
          "data": {
            "text/plain": [
              "<Figure size 640x480 with 2 Axes>"
            ],
            "image/png": "[encoded data removed]"
          },
          "metadata": {}
        }
      ]
    },
    {
      "cell_type": "markdown",
      "source": [
        "**30. Use GridSearchCV to find the optimal values for max_depth and min_samples_split**"
      ],
      "metadata": {
        "id": "hJ0w7yFrtbfD"
      }
    },
    {
      "cell_type": "code",
      "source": [
        "from sklearn.model_selection import GridSearchCV\n",
        "\n",
        "param_grid = {\n",
        "    'max_depth': [3, 5, 10, None],\n",
        "    'min_samples_split': [2, 5, 10]\n",
        "}\n",
        "\n",
        "grid_search = GridSearchCV(DecisionTreeClassifier(), param_grid, cv=5, scoring='accuracy')\n",
        "grid_search.fit(X_train, y_train)\n",
        "\n",
        "print(f\"Best Parameters: {grid_search.best_params_}\")\n",
        "print(f\"Best Accuracy: {grid_search.best_score_:.4f}\")"
      ],
      "metadata": {
        "colab": {
          "base_uri": "https://localhost:8080/"
        },
        "id": "rjerwzrwtWx0",
        "outputId": "c2dc8066-c078-4b93-dd11-8b455b61b266"
      },
      "execution_count": 26,
      "outputs": [
        {
          "output_type": "stream",
          "name": "stdout",
          "text": [
            "Best Parameters: {'max_depth': 5, 'min_samples_split': 10}\n",
            "Best Accuracy: 0.9429\n"
          ]
        }
      ]
    }
  ]
}